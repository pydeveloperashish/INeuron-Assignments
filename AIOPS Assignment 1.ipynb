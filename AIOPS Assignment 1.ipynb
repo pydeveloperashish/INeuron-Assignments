{
 "cells": [
  {
   "cell_type": "markdown",
   "id": "eb8eef6d",
   "metadata": {},
   "source": [
    "# 1. What is AI-ops?"
   ]
  },
  {
   "cell_type": "markdown",
   "id": "b6ca83c8",
   "metadata": {},
   "source": [
    "- AI-ops or ML-ops is a Devops of ML field. It is used to make our project productionize and scalable. The main aim of MLOPS is to maintain the webpage efficiency in any number of incoming traffic "
   ]
  },
  {
   "cell_type": "markdown",
   "id": "7cb44de6",
   "metadata": {},
   "source": [
    "# 2. Why do we use Ai-ops?"
   ]
  },
  {
   "cell_type": "markdown",
   "id": "e6bd0f8d",
   "metadata": {},
   "source": [
    "- We use AI-ops to productionize our project into mass scale level so that it can control and maintain the website in any no of traffic"
   ]
  },
  {
   "cell_type": "markdown",
   "id": "0463a024",
   "metadata": {},
   "source": [
    "# 3. What is the difference between AI-ops and ML-ops?\n",
    "- No, there is no difference between Ai-ops and ML-ops."
   ]
  },
  {
   "cell_type": "markdown",
   "id": "0714fa17",
   "metadata": {},
   "source": [
    "# 4. What do you mean by CI-CD?\n",
    "- CI-CD is continuously integration and continuously deployment pipeline in any ML project which helps us to automate the task of integrating, deploying, testing and monitering any feature or ML model"
   ]
  },
  {
   "cell_type": "markdown",
   "id": "78684a91",
   "metadata": {},
   "source": [
    "# 5. What do you mean by Bash?\n",
    "- Bash is a CLI command interference mainly comes pre-installed in ubuntu os. Using Bash commands we can do various task in ubuntu machine."
   ]
  },
  {
   "cell_type": "markdown",
   "id": "b43f961d",
   "metadata": {},
   "source": [
    "# 6. What do you mean by kernels? Explain the functions of kernels.\n",
    "- The Kernel is responsible for low-level tasks such as disk management, memory management, task management, etc. It provides an interface between the user and the hardware components of the system. When a process makes a request to the Kernel, then it is called System Call.\n",
    "\n",
    "## :- Functions of kernel:- \n",
    "\n",
    "- 1) the kernel manages communication between hardware and software. \n",
    "- 2) The kernel is responsible for managing memory and I/O to memory, cache, the hard drive, and other devices. \n",
    "- 3) It also handles device signals, task scheduling, and other essential duties."
   ]
  },
  {
   "cell_type": "markdown",
   "id": "8a700f21",
   "metadata": {},
   "source": [
    "# 7. What are the essential elements or components of Linux?\n",
    "## :- \n",
    "- Bootloader\n",
    "- OS Kernel.\n",
    "- Background services.\n",
    "- OS Shell.\n",
    "- Graphics server. \n",
    "- Desktop environment.\n",
    "- Applications."
   ]
  },
  {
   "cell_type": "code",
   "execution_count": null,
   "id": "9821e19c",
   "metadata": {},
   "outputs": [],
   "source": []
  }
 ],
 "metadata": {
  "kernelspec": {
   "display_name": "Python 3 (ipykernel)",
   "language": "python",
   "name": "python3"
  },
  "language_info": {
   "codemirror_mode": {
    "name": "ipython",
    "version": 3
   },
   "file_extension": ".py",
   "mimetype": "text/x-python",
   "name": "python",
   "nbconvert_exporter": "python",
   "pygments_lexer": "ipython3",
   "version": "3.9.7"
  }
 },
 "nbformat": 4,
 "nbformat_minor": 5
}
