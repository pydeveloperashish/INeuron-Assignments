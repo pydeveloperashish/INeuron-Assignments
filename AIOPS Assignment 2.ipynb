{
 "cells": [
  {
   "cell_type": "markdown",
   "id": "95b46543",
   "metadata": {},
   "source": [
    "## 1. What is GIT and GitHub?\n",
    "- Git is a version control system used for tracking changes in computer files.\n",
    "- GitHub is a Platform where you can store your project repo and maintain it."
   ]
  },
  {
   "cell_type": "markdown",
   "id": "f4468bfc",
   "metadata": {},
   "source": [
    "## 2. What is a git repository?\n",
    "- Git repo is the repository where we can store the project and can access it"
   ]
  },
  {
   "cell_type": "markdown",
   "id": "03a7a051",
   "metadata": {},
   "source": [
    "## 3. What are the branches in GitHub?\n",
    "- Branches allow you to develop features, fix bugs, or safely experiment with new ideas in a contained area of your repository. You always create a branch from an existing branch. Typically, you might create a new branch from the default branch of your repository."
   ]
  },
  {
   "cell_type": "markdown",
   "id": "e1048667",
   "metadata": {},
   "source": [
    "## 4. What do you mean by commit?\n",
    "- Commit is done after staging files as an information of the work done with those staged files."
   ]
  },
  {
   "cell_type": "markdown",
   "id": "5cfa5649",
   "metadata": {},
   "source": [
    "## 5. What is the command used to delete a branch?\n",
    "- git branch -d branch_name"
   ]
  },
  {
   "cell_type": "markdown",
   "id": "87b23dcc",
   "metadata": {},
   "source": [
    "## 6. What is the git-clone command used for?\n",
    "- It is used to download the remote remo into your local system"
   ]
  },
  {
   "cell_type": "markdown",
   "id": "936f7af8",
   "metadata": {},
   "source": [
    "## 7. What is the difference between git pull and git fetch?\n",
    "- Git Fetch is the command that tells the local repository that there are changes available in the remote repository without bringing the changes into the local repository. Git Pull on the other hand brings the copy of the remote directory changes into the local repository."
   ]
  },
  {
   "cell_type": "code",
   "execution_count": null,
   "id": "75075204",
   "metadata": {},
   "outputs": [],
   "source": []
  }
 ],
 "metadata": {
  "kernelspec": {
   "display_name": "Python 3 (ipykernel)",
   "language": "python",
   "name": "python3"
  },
  "language_info": {
   "codemirror_mode": {
    "name": "ipython",
    "version": 3
   },
   "file_extension": ".py",
   "mimetype": "text/x-python",
   "name": "python",
   "nbconvert_exporter": "python",
   "pygments_lexer": "ipython3",
   "version": "3.9.7"
  }
 },
 "nbformat": 4,
 "nbformat_minor": 5
}
