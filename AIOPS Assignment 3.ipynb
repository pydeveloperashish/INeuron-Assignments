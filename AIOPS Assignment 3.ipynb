{
 "cells": [
  {
   "cell_type": "markdown",
   "id": "8a3affd3",
   "metadata": {},
   "source": [
    "## 1. What is DVC, and why is DVC used?\n",
    "- DVC is Data Version Control that is built to make ML models shareable and reproducible. It is designed to handle large files, data sets, machine learning models, and metrics as well as code."
   ]
  },
  {
   "cell_type": "markdown",
   "id": "51ca1665",
   "metadata": {},
   "source": [
    "## 2. How is DVC different from git and GitHub?\n",
    "- Git is used to track files and changes among them but DVC is used to create the whole piepline of a ML project and also it helps to store mterics and parameters used in the project"
   ]
  },
  {
   "cell_type": "markdown",
   "id": "c118e3a3",
   "metadata": {},
   "source": [
    "## 3. Which command can be used to initialise a DVC project?\n",
    "- dvc init"
   ]
  },
  {
   "cell_type": "markdown",
   "id": "8510a5ca",
   "metadata": {},
   "source": [
    "## 4. In What all use cases DVC can be used?\n",
    " - It can be use in any ML and DL project"
   ]
  },
  {
   "cell_type": "markdown",
   "id": "329a5cee",
   "metadata": {},
   "source": [
    "## 5. Which command can be used to reproduce the entire pipeline?\n",
    "- dvc repro"
   ]
  },
  {
   "cell_type": "markdown",
   "id": "33412068",
   "metadata": {},
   "source": [
    "## 6. Which DVC command can be used to check metrics?\n",
    "- dvc metrics show"
   ]
  },
  {
   "cell_type": "markdown",
   "id": "1e60aeb6",
   "metadata": {},
   "source": [
    "## 7. Can we store a large amount of Data on GitHub? Justify.\n",
    "- \n",
    "GitHub limits the size of files allowed in repositories. If you attempt to add or update a file that is larger than 50 MB, you will receive a warning from Git. The changes will still successfully push to your repository, but you can consider removing the commit to minimize performance impact.\n",
    "\n",
    "- According to GitHub, we can create an unlimited amount of public and private repositories. We can store up to 1 Gb in one repo."
   ]
  },
  {
   "cell_type": "code",
   "execution_count": null,
   "id": "8a6c963a",
   "metadata": {},
   "outputs": [],
   "source": []
  }
 ],
 "metadata": {
  "kernelspec": {
   "display_name": "Python 3 (ipykernel)",
   "language": "python",
   "name": "python3"
  },
  "language_info": {
   "codemirror_mode": {
    "name": "ipython",
    "version": 3
   },
   "file_extension": ".py",
   "mimetype": "text/x-python",
   "name": "python",
   "nbconvert_exporter": "python",
   "pygments_lexer": "ipython3",
   "version": "3.9.7"
  }
 },
 "nbformat": 4,
 "nbformat_minor": 5
}
